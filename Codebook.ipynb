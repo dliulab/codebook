{
 "cells": [
  {
   "cell_type": "markdown",
   "metadata": {},
   "source": [
    "# Data Visualization Codebook Assignment\n",
    "\n",
    "## Overview\n",
    "\n",
    "This is a simple data analysis project. The objective of this exercise is to answer some study questions on a selected dataset.\n",
    "\n",
    "## Dataset selected\n",
    "\n",
    "The \"Outlook on Life Surveys, 2012\" [1] seems to be pretty interesting. I have selected the OOL dataset to trying to answer a number of questions. \n",
    "\n",
    "## Research Questions\n",
    "\n",
    "There are a lot of issues surrounding presidential elections. I would like to find out \n",
    "\n",
    "* Is electing first African Amercian as US president associated with the changing voter demographic? \n",
    "\n",
    "## Research questions and hypotheses\n",
    "\n",
    "### hypotheses\n",
    "\n",
    "* hypothesis 1 : Non-hispanic White Americans are no longer the majority group of the US voter population.\n",
    "* hypothesis 2 : The so called \"majority\" group is no longer defined by voter's race or ethinicity, but by voter's socio-economic status status.\n",
    "\n",
    "### Research questions\n",
    "\n",
    "1. US Demographic\n",
    "2. Voter Demographic\n",
    "3. US Social Demographic\n",
    "4. \n",
    "\n",
    "### Search Terms and Articles\n",
    "\n",
    "1. demographic changes in us history\n",
    "\n",
    "  * [Demographic history of the United States](https://en.wikipedia.org/wiki/Demographic_history_of_the_United_States)\n",
    "  * [Klein, Herbert S. A population history of the United States (Cambridge University Press, 2012)](http://assets.cambridge.org/97811070/15982/excerpt/9781107015982_excerpt.pdf)\n",
    "  * [Births, Marriages, Divorces, and Deaths: Provisional Data for 2008, CDC](http://www.cdc.gov/nchs/data/nvsr/nvsr57/nvsr57_19.htm)\n",
    "  \n",
    "2. demographic race in us\n",
    "\n",
    "  * [Race and ethnicity in the United States](https://en.wikipedia.org/wiki/Race_and_ethnicity_in_the_United_States)\n",
    "  >The non-Hispanic White percentage (63% in 2012[5]) tends to decrease every year, and this sub-group is expected to become a plurality of the overall U.S. population after the year 2043. \n",
    "\n",
    "3. us presidential election demographics\n",
    "\n",
    "  * [Callup U.S. Presidential Election Center](http://www.gallup.com/poll/154559/us-presidential-election-center.aspx)  \n",
    "    >Review the 2012 race and compare it with elections dating back to 1936.\n",
    "  * [How Demographics Will Shape The 2016 Election](http://fivethirtyeight.com/features/how-demographics-will-shape-the-2016-election/)\n",
    "    >There’s no question that recent demographic trends have aided Democrats enormously. In 1980, Ronald Reagan won 56 percent of all white voters and won election in a 44-state landslide. In 2012, GOP nominee Mitt Romney carried 59 percent of all white voters yet lost decisively. What happened? African-Americans, Latinos, Asians and other non-whites — all overwhelmingly Democratic-leaning groups — rose from 12 percent of voters in 1980 to 28 percent in 2012.\n",
    "    \n",
    "## Codebook\n",
    "\n",
    "1. CASEID: ICPSR Sequential Case Identification Number\n",
    "  * Based upon 2,294 valid cases out of 2,294 total cases.\n",
    "  * Location: 1-4 (width: 4; decimal: 0)\n",
    "  * Variable Type: numeric  \n",
    "\n",
    "2. W1_CASEID: Case ID (Wave 1)\n",
    "  * Based upon 2,294 valid cases out of 2,294 total cases.\n",
    "  * Location: 5-8 (width: 4; decimal: 0)\n",
    "  * Variable Type: numeric\n",
    "\n",
    "3. W2_CASEID2: Case ID (Wave 2)\n",
    "  * Based upon 1,601 valid cases out of 2,294 total cases.\n",
    "  * Location: 9-12 (width: 4; decimal: 0)\n",
    "  * Variable Type: numeric\n",
    "  \n",
    "4. W1_A5A: Who did you vote for\n",
    "  * Based upon 1,753 valid cases out of 2,294 total cases.\n",
    "  * Location: 202-203 (width: 2; decimal: 0)\n",
    "  * Variable Type: numeric \n",
    "  * (Range of) Missing Values: -1 , .\n",
    "  \n",
    "5. W1_A5B: Who would you have voted for?\n",
    "  * Based upon 499 valid cases out of 2,294 total cases.\n",
    "  * Location: 331-332 (width: 2; decimal: 0)\n",
    "  * Variable Type: numeric\n",
    "  * (Range of) Missing Values: -1 , .\n",
    "  \n",
    "6. W1_C1: Generally speaking, do you usually think of yourself as a Democrat, a Republican, an Independent, or something else?\n",
    "  * Based upon 2,245 valid cases out of 2,294 total cases.\n",
    "  * Location: 369-370 (width: 2; decimal: 0)\n",
    "  * Variable Type: numeric\n",
    "  * (Range of) Missing Values: -1\n",
    "  \n",
    "7. PPETHM: Race / Ethnicity\n",
    "  * Based upon 2,294 valid cases out of 2,294 total cases.\n",
    "  * Location: 1204-1205 (width: 2; decimal: 0)\n",
    "  * Variable Type: numeric\n",
    "  * (Range of) Missing Values: -2 , -1\n",
    "\n",
    "8. PPINCIMP: Household Income\n",
    "  * Based upon 2,294 valid cases out of 2,294 total cases.\n",
    "  * Location: 1214-1215 (width: 2; decimal: 0)\n",
    "  * Variable Type: numeric\n",
    "  * (Range of) Missing Values: -2 , -1  \n",
    "  \n",
    "9. PPEDUC: Education (Highest Degree Received)\n",
    "  * Based upon 2,294 valid cases out of 2,294 total cases.\n",
    "  * Location: 1200-1201 (width: 2; decimal: 0)\n",
    "  * Variable Type: numeric\n",
    "  * (Range of) Missing Values: -2 , -1  \n",
    "  \n",
    "10. PPRENT: Ownership Status of Living Quarters\n",
    "  * Based upon 2,294 valid cases out of 2,294 total cases.\n",
    "  * Location: 1223-1224 (width: 2; decimal: 0)\n",
    "  * Variable Type: numeric\n",
    "  * (Range of) Missing Values: -2 , -1  \n"
   ]
  },
  {
   "cell_type": "markdown",
   "metadata": {},
   "source": [
    "### Assciation of Race and Candidates Voted\n",
    "\n",
    "* Majority of Non-hispanic white voted for John McCain.\n",
    "* Majority of other race groups voted for Barack Obama"
   ]
  },
  {
   "cell_type": "markdown",
   "metadata": {},
   "source": [
    "### Assciation of Household income groups and Candidates Voted\n",
    "\n",
    "* Majority of all household income groups voted for Barack Obama\n",
    "* There seems to be no association of household income groups and candiate supported."
   ]
  },
  {
   "cell_type": "markdown",
   "metadata": {},
   "source": [
    "### Assciation of Education groups and Candidates Voted\n",
    "\n",
    "* Majority of all education groups voted for Barack Obama\n",
    "* There seems to be no association of education level and candiate supported."
   ]
  },
  {
   "cell_type": "markdown",
   "metadata": {},
   "source": [
    "### Assciation of Ownership Status of Living Quarters and Candidates Voted\n",
    "\n",
    "* Majority of all ownership status groups suppoed President Obama.\n",
    "* There does not seem to be any association of Ownership Status of Living Quarters and candidate preference."
   ]
  },
  {
   "cell_type": "markdown",
   "metadata": {},
   "source": [
    "# References\n",
    "\n",
    "  1. [Outlook on Life Survey (OOL)](https://d396qusza40orc.cloudfront.net/phoenixassets/data-management-visualization/Outlook%20on%20Life%20Surveys_READ%20ME.pdf)\n",
    "  2. [Source Data File](https://dl.dropboxusercontent.com/content_link/BOGviy9uojO6HuzWNKYmclyFtSZlJS6z60JSbL0lZxSvFAimxRFXhQf4RHK2a550/file?dl=1)\n",
    "  3. [Original OOL Codebook](https://d396qusza40orc.cloudfront.net/phoenixassets/data-management-visualization/OutlookOnLife%20Codebook.pdf)"
   ]
  },
  {
   "cell_type": "markdown",
   "metadata": {},
   "source": []
  }
 ],
 "metadata": {
  "kernelspec": {
   "display_name": "Python 3",
   "language": "python",
   "name": "python3"
  },
  "language_info": {
   "codemirror_mode": {
    "name": "ipython",
    "version": 3
   },
   "file_extension": ".py",
   "mimetype": "text/x-python",
   "name": "python",
   "nbconvert_exporter": "python",
   "pygments_lexer": "ipython3",
   "version": "3.5.1"
  }
 },
 "nbformat": 4,
 "nbformat_minor": 0
}
